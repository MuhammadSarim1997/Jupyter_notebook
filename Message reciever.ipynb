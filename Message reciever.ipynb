{
 "cells": [
  {
   "cell_type": "code",
   "execution_count": 1,
   "id": "3f767357-e4ba-4795-a8c2-56aca406d284",
   "metadata": {},
   "outputs": [
    {
     "name": "stdout",
     "output_type": "stream",
     "text": [
      "Server is waiting for a connection...\n",
      "Connected by ('192.168.0.16', 40638)\n",
      "Received message: fuckkkkkkkk\n"
     ]
    }
   ],
   "source": [
    "import socket\n",
    "\n",
    "def start_server():\n",
    "    server_socket = socket.socket(socket.AF_INET, socket.SOCK_STREAM)\n",
    "    server_socket.bind(('0.0.0.0', 12345))  # Listen on all interfaces, port 12345\n",
    "    server_socket.listen(1)  # Allow 1 connection at a time\n",
    "\n",
    "    print(\"Server is waiting for a connection...\")\n",
    "    conn, addr = server_socket.accept()\n",
    "    print(f\"Connected by {addr}\")\n",
    "\n",
    "    while True:\n",
    "        data = conn.recv(1024)\n",
    "        if not data:\n",
    "            break\n",
    "        print(f\"Received message: {data.decode()}\")\n",
    "\n",
    "    conn.close()\n",
    "\n",
    "if __name__ == \"__main__\":\n",
    "    start_server()"
   ]
  },
  {
   "cell_type": "code",
   "execution_count": 2,
   "id": "e997e160-d4bc-48c8-bc61-426886e80876",
   "metadata": {},
   "outputs": [
    {
     "name": "stdout",
     "output_type": "stream",
     "text": [
      "Defaulting to user installation because normal site-packages is not writeable\n",
      "Collecting pyserial\n",
      "  Downloading pyserial-3.5-py2.py3-none-any.whl.metadata (1.6 kB)\n",
      "Downloading pyserial-3.5-py2.py3-none-any.whl (90 kB)\n",
      "   ---------------------------------------- 0.0/90.6 kB ? eta -:--:--\n",
      "   ---- ----------------------------------- 10.2/90.6 kB ? eta -:--:--\n",
      "   ------------------ --------------------- 41.0/90.6 kB 653.6 kB/s eta 0:00:01\n",
      "   ------------------------------------ --- 81.9/90.6 kB 919.0 kB/s eta 0:00:01\n",
      "   ---------------------------------------- 90.6/90.6 kB 642.8 kB/s eta 0:00:00\n",
      "Installing collected packages: pyserial\n",
      "Successfully installed pyserial-3.5\n"
     ]
    },
    {
     "name": "stderr",
     "output_type": "stream",
     "text": [
      "  WARNING: The scripts pyserial-miniterm.exe and pyserial-ports.exe are installed in 'C:\\Users\\Muhammad Sarim\\AppData\\Roaming\\Python\\Python311\\Scripts' which is not on PATH.\n",
      "  Consider adding this directory to PATH or, if you prefer to suppress this warning, use --no-warn-script-location.\n"
     ]
    }
   ],
   "source": [
    "!pip install pyserial"
   ]
  }
 ],
 "metadata": {
  "kernelspec": {
   "display_name": "Python 3 (ipykernel)",
   "language": "python",
   "name": "python3"
  },
  "language_info": {
   "codemirror_mode": {
    "name": "ipython",
    "version": 3
   },
   "file_extension": ".py",
   "mimetype": "text/x-python",
   "name": "python",
   "nbconvert_exporter": "python",
   "pygments_lexer": "ipython3",
   "version": "3.11.7"
  }
 },
 "nbformat": 4,
 "nbformat_minor": 5
}
