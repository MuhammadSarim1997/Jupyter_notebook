{
 "cells": [
  {
   "cell_type": "code",
   "execution_count": 21,
   "id": "6f8c7650-464a-4d6a-96bc-eba9ba6018ce",
   "metadata": {},
   "outputs": [],
   "source": [
    "import selenium\n",
    "import time\n",
    "from selenium import webdriver\n",
    "\n",
    "JS_SCRIPT = (\"var req = new XMLHttpRequest();\"\n",
    "             f\"req.open('GET', '%s', false);\"\n",
    "             \"req.setRequestHeader('Accept', 'application/json, text/javascript, */*; q=0.01');\"\n",
    "             \"req.setRequestHeader('X-Requested-With', 'XMLHttpRequest');\"\n",
    "             f\"req.setRequestHeader('Cookie', '_yatri_session=%s');\"\n",
    "             \"req.send(null);\"\n",
    "             \"return req.responseText;\")\n",
    "\n",
    "\n",
    "driver = webdriver.Chrome()\n",
    "\n",
    "\n",
    "driver.get(\"https://www.geeksforgeeks.org/\")\n",
    "script = \"alert('Alert via selenium')\"\n",
    "driver.execute_script(script)\n",
    "# time.sleep(15)\n",
    "# cookie = driver.get_cookie(\"gfg_theme\")"
   ]
  },
  {
   "cell_type": "code",
   "execution_count": 17,
   "id": "3bc63c9e-7b7e-41fd-9b27-9c4f8ee3bbf7",
   "metadata": {},
   "outputs": [
    {
     "data": {
      "text/plain": [
       "{'domain': '.geeksforgeeks.org',\n",
       " 'expiry': 1758833654,\n",
       " 'httpOnly': False,\n",
       " 'name': 'gfg_theme',\n",
       " 'path': '/',\n",
       " 'sameSite': 'Lax',\n",
       " 'secure': False,\n",
       " 'value': 'gfgThemeLight'}"
      ]
     },
     "execution_count": 17,
     "metadata": {},
     "output_type": "execute_result"
    }
   ],
   "source": [
    "cookie"
   ]
  }
 ],
 "metadata": {
  "kernelspec": {
   "display_name": "Python 3 (ipykernel)",
   "language": "python",
   "name": "python3"
  },
  "language_info": {
   "codemirror_mode": {
    "name": "ipython",
    "version": 3
   },
   "file_extension": ".py",
   "mimetype": "text/x-python",
   "name": "python",
   "nbconvert_exporter": "python",
   "pygments_lexer": "ipython3",
   "version": "3.11.7"
  }
 },
 "nbformat": 4,
 "nbformat_minor": 5
}
