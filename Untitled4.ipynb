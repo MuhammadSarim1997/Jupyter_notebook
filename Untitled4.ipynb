{
 "cells": [
  {
   "cell_type": "code",
   "execution_count": 94,
   "id": "a3543699-1527-4202-8dde-6f0621b69108",
   "metadata": {},
   "outputs": [
    {
     "name": "stdout",
     "output_type": "stream",
     "text": [
      "Returning ClassMethod(func)\n",
      "Setting method : <function MyClass.my_class_method at 0x000001E6C9A380E0>\n",
      "__get__ called: instance=None, cls=<class '__main__.MyClass'>\n",
      "new_func called with cls=<class '__main__.MyClass'>\n",
      "Called with class: <class '__main__.MyClass'> and argument: 10\n",
      "__get__ called: instance=None, cls=<class '__main__.MyClass'>\n",
      "new_func called with cls=<class '__main__.MyClass'>\n",
      "Called with class: <class '__main__.MyClass'> and argument: 10\n"
     ]
    },
    {
     "ename": "AttributeError",
     "evalue": "'NoneType' object has no attribute '__func__'",
     "output_type": "error",
     "traceback": [
      "\u001b[1;31m---------------------------------------------------------------------------\u001b[0m",
      "\u001b[1;31mAttributeError\u001b[0m                            Traceback (most recent call last)",
      "Cell \u001b[1;32mIn[94], line 27\u001b[0m\n\u001b[0;32m     24\u001b[0m MyClass\u001b[38;5;241m.\u001b[39mmy_class_method(\u001b[38;5;241m10\u001b[39m)   \u001b[38;5;66;03m# Output shows how __get__ is called and what is returned\u001b[39;00m\n\u001b[0;32m     25\u001b[0m \u001b[38;5;66;03m# obj = MyClass()\u001b[39;00m\n\u001b[0;32m     26\u001b[0m \u001b[38;5;66;03m# obj.my_class_method(20)       # Same output, demonstrating descriptor behavior\u001b[39;00m\n\u001b[1;32m---> 27\u001b[0m MyClass\u001b[38;5;241m.\u001b[39mmy_class_method(\u001b[38;5;241m10\u001b[39m)\u001b[38;5;241m.\u001b[39m\u001b[38;5;18m__func__\u001b[39m\n",
      "\u001b[1;31mAttributeError\u001b[0m: 'NoneType' object has no attribute '__func__'"
     ]
    }
   ],
   "source": [
    "def my_classmethod(func):\n",
    "    class ClassMethod:\n",
    "        def __init__(self, method):\n",
    "            self.method = method\n",
    "            print(f\"Setting method : {method}\")\n",
    "\n",
    "        def __get__(self, instance, cls):\n",
    "            print(f\"__get__ called: instance={instance}, cls={cls}\")\n",
    "\n",
    "            def new_func(*args):\n",
    "                print(f\"new_func called with cls={cls}\")\n",
    "                return self.method(cls, *args)\n",
    "\n",
    "            return new_func\n",
    "    print(\"Returning ClassMethod(func)\")        \n",
    "    return ClassMethod(func)\n",
    "\n",
    "class MyClass:\n",
    "    @my_classmethod\n",
    "    def my_class_method(cls,x):\n",
    "        print(f\"Called with class: {cls} and argument: {x}\")\n",
    "\n",
    "# Accessing and calling the method\n",
    "MyClass.my_class_method(10)   # Output shows how __get__ is called and what is returned\n",
    "# obj = MyClass()\n",
    "# obj.my_class_method(20)       # Same output, demonstrating descriptor behavior\n"
   ]
  },
  {
   "cell_type": "code",
   "execution_count": 98,
   "id": "8873bc8b-d385-4899-a93c-2540ae136f7d",
   "metadata": {},
   "outputs": [
    {
     "data": {
      "text/plain": [
       "__main__.jike"
      ]
     },
     "execution_count": 98,
     "metadata": {},
     "output_type": "execute_result"
    }
   ],
   "source": [
    "class jike:\n",
    "    pass\n",
    "ab = jike()\n",
    "bc = jike()\n",
    "\n",
    "type(bc)"
   ]
  },
  {
   "cell_type": "code",
   "execution_count": 2,
   "id": "f402c6ab-7d93-4988-9938-164bde6fd3b9",
   "metadata": {},
   "outputs": [],
   "source": [
    "data = np.random.normal(loc=0, scale=1, size=1000)"
   ]
  }
 ],
 "metadata": {
  "kernelspec": {
   "display_name": "Python 3 (ipykernel)",
   "language": "python",
   "name": "python3"
  },
  "language_info": {
   "codemirror_mode": {
    "name": "ipython",
    "version": 3
   },
   "file_extension": ".py",
   "mimetype": "text/x-python",
   "name": "python",
   "nbconvert_exporter": "python",
   "pygments_lexer": "ipython3",
   "version": "3.11.7"
  }
 },
 "nbformat": 4,
 "nbformat_minor": 5
}
